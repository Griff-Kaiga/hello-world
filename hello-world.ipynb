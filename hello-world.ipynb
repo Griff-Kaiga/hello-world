hello, world!
Hello, world! 
Welome to my first website!
 I am about to embark on an exciting jouney of how to code. Won't you join me?
 